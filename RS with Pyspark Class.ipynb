{
 "cells": [
  {
   "cell_type": "code",
   "execution_count": 1,
   "metadata": {},
   "outputs": [],
   "source": [
    "from pyspark.sql import SparkSession\n",
    "spark = SparkSession.builder.appName('recommender').getOrCreate()\n",
    "from pyspark.ml.recommendation import ALS\n",
    "from pyspark.ml.evaluation import RegressionEvaluator\n",
    "from pyspark.ml.tuning import TrainValidationSplit, ParamGridBuilder"
   ]
  },
  {
   "cell_type": "code",
   "execution_count": null,
   "metadata": {},
   "outputs": [],
   "source": [
    "# RS with pyspark"
   ]
  },
  {
   "cell_type": "code",
   "execution_count": 2,
   "metadata": {},
   "outputs": [],
   "source": [
    "import pandas as pd\n",
    "#pandas dataframe\n",
    "reviews = pd.read_csv('data/upload/all_reviews_through_SA_class.csv')\n",
    "#split the dataframe\n",
    "datatest, datatrain  = reviews.sample(frac =.2), reviews.sample(frac=.8)\n",
    "#convert to pyspark dataframe\n",
    "DataTrain = spark.createDataFrame(datatrain)\n",
    "DataTest = spark.createDataFrame(datatest)"
   ]
  },
  {
   "cell_type": "code",
   "execution_count": 3,
   "metadata": {},
   "outputs": [],
   "source": [
    "def RS(thecolumn, datatrain, datatest):\n",
    "    als = ALS(userCol='userId', itemCol='itemId', \n",
    "              ratingCol=thecolumn, nonnegative=True,\n",
    "              )\n",
    "    #Tune model using ParamGridBuilder\n",
    "    param_grid = ParamGridBuilder()\\\n",
    "                .addGrid(als.rank,[10,11,12])\\\n",
    "                .addGrid(als.maxIter,[22,21,20])\\\n",
    "                .addGrid(als.regParam, [.07, .05, .1])\\\n",
    "                .build()\n",
    "    #Define evaluator as RMSE\n",
    "    evaluator_ = RegressionEvaluator(metricName=\"rmse\",labelCol=thecolumn,\n",
    "                                   predictionCol = \"prediction\")\n",
    "    #Build cross validation using TrainvalidationSplit\n",
    "    tvs = TrainValidationSplit(\n",
    "        estimator = als,\n",
    "        estimatorParamMaps = param_grid,\n",
    "        evaluator=evaluator_)\n",
    "    #Fit ALS model to training data\n",
    "    model = tvs.fit(datatrain)\n",
    "    #Extract best model from the tuning exercise using ParamGridBuilder\n",
    "    bmodel = model.bestModel\n",
    "    # Generate Predictions and evaluate using RMSE\n",
    "    predictions = bmodel.transform(datatest)\n",
    "    predictions = predictions.na.drop()\n",
    "    rank = bmodel.rank\n",
    "    rmse = evaluator_.evaluate(predictions)\n",
    "    mIter = bmodel._java_obj.parent().getMaxIter()\n",
    "    rParam = bmodel._java_obj.parent().getRegParam()\n",
    "    return (predictions, bmodel, rmse, rank, mIter, rParam)"
   ]
  },
  {
   "cell_type": "code",
   "execution_count": 4,
   "metadata": {},
   "outputs": [],
   "source": [
    "prediction_rating, bmodel_rat, rmse_rat, rank_rat, mIter_rat, rParam_rat = RS('rating', \n",
    "                                                                              DataTrain, DataTest)"
   ]
  },
  {
   "cell_type": "code",
   "execution_count": 5,
   "metadata": {},
   "outputs": [],
   "source": [
    "prediction_tes, bmodel_tes, rmse_tes, rank_tes, mIter_tes, rParam_tes  = RS('testimony_class', \n",
    "                                                                            DataTrain, DataTest)"
   ]
  },
  {
   "cell_type": "code",
   "execution_count": 6,
   "metadata": {},
   "outputs": [
    {
     "name": "stdout",
     "output_type": "stream",
     "text": [
      "RMSE of prediction rating is 0.325\n",
      "best model :\n",
      "rank = 10\n",
      "maxIter = 22\n",
      "regParam = 0.07\n",
      "RMSE of prediction testimony class is 0.267\n",
      "best model :\n",
      "rank = 10\n",
      "maxIter = 22\n",
      "regParam = 0.07\n"
     ]
    }
   ],
   "source": [
    "print(\"RMSE of prediction rating is \" + str(round(rmse_rat, 3)))\n",
    "print(\"best model :\")\n",
    "print(\"rank = \" + str(rank_rat))\n",
    "print(\"maxIter = \" + str(mIter_rat))\n",
    "print(\"regParam = \" + str(rParam_rat))\n",
    "print(\"RMSE of prediction testimony class is \" + str(round(rmse_tes, 3)))\n",
    "print(\"best model :\")\n",
    "print(\"rank = \" + str(rank_tes))\n",
    "print(\"maxIter = \" + str(mIter_tes))\n",
    "print(\"regParam = \" + str(rParam_tes))"
   ]
  },
  {
   "cell_type": "code",
   "execution_count": 7,
   "metadata": {
    "scrolled": true
   },
   "outputs": [],
   "source": [
    "user_recs_tc_top5 = bmodel_tes.recommendForAllUsers(5)\n",
    "user_recs_rat_top5 = bmodel_rat.recommendForAllUsers(5)"
   ]
  },
  {
   "cell_type": "code",
   "execution_count": 8,
   "metadata": {},
   "outputs": [
    {
     "name": "stdout",
     "output_type": "stream",
     "text": [
      "+------+--------------------+\n",
      "|userId|     recommendations|\n",
      "+------+--------------------+\n",
      "|  1580|[[18, 3.1919055],...|\n",
      "|   471|[[39, 3.2942615],...|\n",
      "|  1591|[[18, 3.3876348],...|\n",
      "+------+--------------------+\n",
      "only showing top 3 rows\n",
      "\n",
      "+------+--------------------+\n",
      "|userId|     recommendations|\n",
      "+------+--------------------+\n",
      "|  1580|[[3, 5.130658], [...|\n",
      "|   471|[[2, 6.361953], [...|\n",
      "|  1591|[[2, 4.6105685], ...|\n",
      "+------+--------------------+\n",
      "only showing top 3 rows\n",
      "\n"
     ]
    }
   ],
   "source": [
    "user_recs_tc_top5.show(3)\n",
    "user_recs_rat_top5.show(3)"
   ]
  },
  {
   "cell_type": "code",
   "execution_count": null,
   "metadata": {},
   "outputs": [],
   "source": []
  },
  {
   "cell_type": "code",
   "execution_count": 33,
   "metadata": {},
   "outputs": [
    {
     "data": {
      "text/plain": [
       "Row(recommendations=[Row(itemId=18, rating=3.1919054985046387), Row(itemId=16, rating=2.926283597946167), Row(itemId=17, rating=2.884603261947632), Row(itemId=35, rating=2.770015239715576), Row(itemId=7, rating=2.668339967727661)])"
      ]
     },
     "execution_count": 33,
     "metadata": {},
     "output_type": "execute_result"
    }
   ],
   "source": [
    "user_recs_tc_top5.select(['recommendations']).filter(\n",
    "    user_recs_tc_top5.userId == 1580).first()"
   ]
  },
  {
   "cell_type": "code",
   "execution_count": 34,
   "metadata": {},
   "outputs": [
    {
     "data": {
      "text/plain": [
       "Row(recommendations=[Row(itemId=3, rating=5.130658149719238), Row(itemId=13, rating=4.974915981292725), Row(itemId=18, rating=4.963583469390869), Row(itemId=2, rating=4.9153289794921875), Row(itemId=16, rating=4.903608798980713)])"
      ]
     },
     "execution_count": 34,
     "metadata": {},
     "output_type": "execute_result"
    }
   ],
   "source": [
    "user_recs_rat_top5.select(['recommendations']).filter(\n",
    "    user_recs_rat_top5.userId == 1580).first()"
   ]
  },
  {
   "cell_type": "code",
   "execution_count": 11,
   "metadata": {},
   "outputs": [],
   "source": [
    "import numpy as np"
   ]
  },
  {
   "cell_type": "code",
   "execution_count": 35,
   "metadata": {},
   "outputs": [],
   "source": [
    "TopRecBasedOnTestimony = pd.DataFrame(np.array([[18, 5], [16, 4], [17,3], [35,2], [7,1]]),\n",
    "                                              columns=['itemId', 'points_tes'])\n",
    "TopRecBasedOnRating= pd.DataFrame(np.array([[3, 5], [13, 4], [18,3], [2,2], [16,1]]),\n",
    "                                              columns=['itemId', 'points_rat'])"
   ]
  },
  {
   "cell_type": "code",
   "execution_count": 36,
   "metadata": {},
   "outputs": [],
   "source": [
    "topRecommendations = pd.merge(\n",
    "    TopRecBasedOnTestimony, TopRecBasedOnRating,\n",
    "    on='itemId', how='outer').fillna(0)"
   ]
  },
  {
   "cell_type": "code",
   "execution_count": 37,
   "metadata": {},
   "outputs": [
    {
     "data": {
      "text/html": [
       "<div>\n",
       "<style scoped>\n",
       "    .dataframe tbody tr th:only-of-type {\n",
       "        vertical-align: middle;\n",
       "    }\n",
       "\n",
       "    .dataframe tbody tr th {\n",
       "        vertical-align: top;\n",
       "    }\n",
       "\n",
       "    .dataframe thead th {\n",
       "        text-align: right;\n",
       "    }\n",
       "</style>\n",
       "<table border=\"1\" class=\"dataframe\">\n",
       "  <thead>\n",
       "    <tr style=\"text-align: right;\">\n",
       "      <th></th>\n",
       "      <th>itemId</th>\n",
       "      <th>points_tes</th>\n",
       "      <th>points_rat</th>\n",
       "      <th>Result</th>\n",
       "    </tr>\n",
       "  </thead>\n",
       "  <tbody>\n",
       "    <tr>\n",
       "      <th>0</th>\n",
       "      <td>18</td>\n",
       "      <td>5.0</td>\n",
       "      <td>3.0</td>\n",
       "      <td>4.0</td>\n",
       "    </tr>\n",
       "    <tr>\n",
       "      <th>1</th>\n",
       "      <td>16</td>\n",
       "      <td>4.0</td>\n",
       "      <td>1.0</td>\n",
       "      <td>2.5</td>\n",
       "    </tr>\n",
       "    <tr>\n",
       "      <th>5</th>\n",
       "      <td>3</td>\n",
       "      <td>0.0</td>\n",
       "      <td>5.0</td>\n",
       "      <td>2.5</td>\n",
       "    </tr>\n",
       "    <tr>\n",
       "      <th>6</th>\n",
       "      <td>13</td>\n",
       "      <td>0.0</td>\n",
       "      <td>4.0</td>\n",
       "      <td>2.0</td>\n",
       "    </tr>\n",
       "    <tr>\n",
       "      <th>2</th>\n",
       "      <td>17</td>\n",
       "      <td>3.0</td>\n",
       "      <td>0.0</td>\n",
       "      <td>1.5</td>\n",
       "    </tr>\n",
       "    <tr>\n",
       "      <th>3</th>\n",
       "      <td>35</td>\n",
       "      <td>2.0</td>\n",
       "      <td>0.0</td>\n",
       "      <td>1.0</td>\n",
       "    </tr>\n",
       "    <tr>\n",
       "      <th>7</th>\n",
       "      <td>2</td>\n",
       "      <td>0.0</td>\n",
       "      <td>2.0</td>\n",
       "      <td>1.0</td>\n",
       "    </tr>\n",
       "    <tr>\n",
       "      <th>4</th>\n",
       "      <td>7</td>\n",
       "      <td>1.0</td>\n",
       "      <td>0.0</td>\n",
       "      <td>0.5</td>\n",
       "    </tr>\n",
       "  </tbody>\n",
       "</table>\n",
       "</div>"
      ],
      "text/plain": [
       "   itemId  points_tes  points_rat  Result\n",
       "0      18         5.0         3.0     4.0\n",
       "1      16         4.0         1.0     2.5\n",
       "5       3         0.0         5.0     2.5\n",
       "6      13         0.0         4.0     2.0\n",
       "2      17         3.0         0.0     1.5\n",
       "3      35         2.0         0.0     1.0\n",
       "7       2         0.0         2.0     1.0\n",
       "4       7         1.0         0.0     0.5"
      ]
     },
     "execution_count": 37,
     "metadata": {},
     "output_type": "execute_result"
    }
   ],
   "source": [
    "# calculate the result\n",
    "topRecommendations['Result'] = topRecommendations.apply(\n",
    "    lambda row: (row['points_rat']+row['points_tes'])/2,\n",
    "    axis=1\n",
    ")\n",
    "topRecommendations = topRecommendations.sort_values(by=['Result'],ascending=[0])\n",
    "topRecommendations"
   ]
  },
  {
   "cell_type": "code",
   "execution_count": 38,
   "metadata": {},
   "outputs": [],
   "source": [
    "item = pd.read_csv('data/modal/all_item.csv')"
   ]
  },
  {
   "cell_type": "code",
   "execution_count": 39,
   "metadata": {},
   "outputs": [],
   "source": [
    "rec_item_df = item.loc[item.itemId.isin(topRecommendations.itemId)]"
   ]
  },
  {
   "cell_type": "code",
   "execution_count": 40,
   "metadata": {},
   "outputs": [
    {
     "data": {
      "text/html": [
       "<div>\n",
       "<style scoped>\n",
       "    .dataframe tbody tr th:only-of-type {\n",
       "        vertical-align: middle;\n",
       "    }\n",
       "\n",
       "    .dataframe tbody tr th {\n",
       "        vertical-align: top;\n",
       "    }\n",
       "\n",
       "    .dataframe thead th {\n",
       "        text-align: right;\n",
       "    }\n",
       "</style>\n",
       "<table border=\"1\" class=\"dataframe\">\n",
       "  <thead>\n",
       "    <tr style=\"text-align: right;\">\n",
       "      <th></th>\n",
       "      <th>itemId</th>\n",
       "      <th>points_tes</th>\n",
       "      <th>points_rat</th>\n",
       "      <th>Result</th>\n",
       "      <th>itemname</th>\n",
       "      <th>Category</th>\n",
       "    </tr>\n",
       "  </thead>\n",
       "  <tbody>\n",
       "    <tr>\n",
       "      <th>0</th>\n",
       "      <td>18</td>\n",
       "      <td>5.0</td>\n",
       "      <td>3.0</td>\n",
       "      <td>4.0</td>\n",
       "      <td>Kindle Oasis E-reader with Leather Charging Co...</td>\n",
       "      <td>Kindle</td>\n",
       "    </tr>\n",
       "    <tr>\n",
       "      <th>1</th>\n",
       "      <td>16</td>\n",
       "      <td>4.0</td>\n",
       "      <td>1.0</td>\n",
       "      <td>2.5</td>\n",
       "      <td>Fire Kids Edition Tablet, 7 Display, Wi-Fi, 16...</td>\n",
       "      <td>Tablet</td>\n",
       "    </tr>\n",
       "    <tr>\n",
       "      <th>2</th>\n",
       "      <td>3</td>\n",
       "      <td>0.0</td>\n",
       "      <td>5.0</td>\n",
       "      <td>2.5</td>\n",
       "      <td>Amazon 9W PowerFast Official OEM USB Charger a...</td>\n",
       "      <td>Adapter</td>\n",
       "    </tr>\n",
       "    <tr>\n",
       "      <th>3</th>\n",
       "      <td>13</td>\n",
       "      <td>0.0</td>\n",
       "      <td>4.0</td>\n",
       "      <td>2.0</td>\n",
       "      <td>All-New Fire HD 8 Tablet, 8\" HD Display, Wi-Fi...</td>\n",
       "      <td>Tablet</td>\n",
       "    </tr>\n",
       "    <tr>\n",
       "      <th>4</th>\n",
       "      <td>17</td>\n",
       "      <td>3.0</td>\n",
       "      <td>0.0</td>\n",
       "      <td>1.5</td>\n",
       "      <td>Kindle Oasis E-reader with Leather Charging Co...</td>\n",
       "      <td>Kindle</td>\n",
       "    </tr>\n",
       "    <tr>\n",
       "      <th>5</th>\n",
       "      <td>35</td>\n",
       "      <td>2.0</td>\n",
       "      <td>0.0</td>\n",
       "      <td>1.0</td>\n",
       "      <td>Roll over image to zoom in Ultimate Ears BOOM ...</td>\n",
       "      <td>Speaker</td>\n",
       "    </tr>\n",
       "    <tr>\n",
       "      <th>6</th>\n",
       "      <td>2</td>\n",
       "      <td>0.0</td>\n",
       "      <td>2.0</td>\n",
       "      <td>1.0</td>\n",
       "      <td>Amazon Fire TV with 4K Ultra HD and Alexa Voic...</td>\n",
       "      <td>TV</td>\n",
       "    </tr>\n",
       "    <tr>\n",
       "      <th>7</th>\n",
       "      <td>7</td>\n",
       "      <td>1.0</td>\n",
       "      <td>0.0</td>\n",
       "      <td>0.5</td>\n",
       "      <td>Fire Kids Edition Tablet, 7 Display, Wi-Fi, 16...</td>\n",
       "      <td>Tablet</td>\n",
       "    </tr>\n",
       "  </tbody>\n",
       "</table>\n",
       "</div>"
      ],
      "text/plain": [
       "   itemId  points_tes  points_rat  Result  \\\n",
       "0      18         5.0         3.0     4.0   \n",
       "1      16         4.0         1.0     2.5   \n",
       "2       3         0.0         5.0     2.5   \n",
       "3      13         0.0         4.0     2.0   \n",
       "4      17         3.0         0.0     1.5   \n",
       "5      35         2.0         0.0     1.0   \n",
       "6       2         0.0         2.0     1.0   \n",
       "7       7         1.0         0.0     0.5   \n",
       "\n",
       "                                            itemname Category  \n",
       "0  Kindle Oasis E-reader with Leather Charging Co...   Kindle  \n",
       "1  Fire Kids Edition Tablet, 7 Display, Wi-Fi, 16...   Tablet  \n",
       "2  Amazon 9W PowerFast Official OEM USB Charger a...  Adapter  \n",
       "3  All-New Fire HD 8 Tablet, 8\" HD Display, Wi-Fi...   Tablet  \n",
       "4  Kindle Oasis E-reader with Leather Charging Co...   Kindle  \n",
       "5  Roll over image to zoom in Ultimate Ears BOOM ...  Speaker  \n",
       "6  Amazon Fire TV with 4K Ultra HD and Alexa Voic...       TV  \n",
       "7  Fire Kids Edition Tablet, 7 Display, Wi-Fi, 16...   Tablet  "
      ]
     },
     "execution_count": 40,
     "metadata": {},
     "output_type": "execute_result"
    }
   ],
   "source": [
    "topRecommendationsTitle= pd.merge(\n",
    "    topRecommendations, rec_item_df,\n",
    "    on='itemId', how='outer').fillna(0)\n",
    "topRecommendationsTitle"
   ]
  },
  {
   "cell_type": "code",
   "execution_count": 42,
   "metadata": {},
   "outputs": [
    {
     "name": "stdout",
     "output_type": "stream",
     "text": [
      "Top recommendation for user 1580\n"
     ]
    },
    {
     "data": {
      "text/html": [
       "<div>\n",
       "<style scoped>\n",
       "    .dataframe tbody tr th:only-of-type {\n",
       "        vertical-align: middle;\n",
       "    }\n",
       "\n",
       "    .dataframe tbody tr th {\n",
       "        vertical-align: top;\n",
       "    }\n",
       "\n",
       "    .dataframe thead th {\n",
       "        text-align: right;\n",
       "    }\n",
       "</style>\n",
       "<table border=\"1\" class=\"dataframe\">\n",
       "  <thead>\n",
       "    <tr style=\"text-align: right;\">\n",
       "      <th></th>\n",
       "      <th>itemId</th>\n",
       "      <th>itemname</th>\n",
       "      <th>Category</th>\n",
       "    </tr>\n",
       "  </thead>\n",
       "  <tbody>\n",
       "    <tr>\n",
       "      <th>0</th>\n",
       "      <td>18</td>\n",
       "      <td>Kindle Oasis E-reader with Leather Charging Co...</td>\n",
       "      <td>Kindle</td>\n",
       "    </tr>\n",
       "    <tr>\n",
       "      <th>1</th>\n",
       "      <td>16</td>\n",
       "      <td>Fire Kids Edition Tablet, 7 Display, Wi-Fi, 16...</td>\n",
       "      <td>Tablet</td>\n",
       "    </tr>\n",
       "    <tr>\n",
       "      <th>2</th>\n",
       "      <td>3</td>\n",
       "      <td>Amazon 9W PowerFast Official OEM USB Charger a...</td>\n",
       "      <td>Adapter</td>\n",
       "    </tr>\n",
       "    <tr>\n",
       "      <th>3</th>\n",
       "      <td>13</td>\n",
       "      <td>All-New Fire HD 8 Tablet, 8\" HD Display, Wi-Fi...</td>\n",
       "      <td>Tablet</td>\n",
       "    </tr>\n",
       "    <tr>\n",
       "      <th>4</th>\n",
       "      <td>17</td>\n",
       "      <td>Kindle Oasis E-reader with Leather Charging Co...</td>\n",
       "      <td>Kindle</td>\n",
       "    </tr>\n",
       "  </tbody>\n",
       "</table>\n",
       "</div>"
      ],
      "text/plain": [
       "   itemId                                           itemname Category\n",
       "0      18  Kindle Oasis E-reader with Leather Charging Co...   Kindle\n",
       "1      16  Fire Kids Edition Tablet, 7 Display, Wi-Fi, 16...   Tablet\n",
       "2       3  Amazon 9W PowerFast Official OEM USB Charger a...  Adapter\n",
       "3      13  All-New Fire HD 8 Tablet, 8\" HD Display, Wi-Fi...   Tablet\n",
       "4      17  Kindle Oasis E-reader with Leather Charging Co...   Kindle"
      ]
     },
     "execution_count": 42,
     "metadata": {},
     "output_type": "execute_result"
    }
   ],
   "source": [
    "print(\"Top recommendation for user\", 1580)\n",
    "topRecommendationsTitle[['itemId', 'itemname','Category']].head(5)\n"
   ]
  }
 ],
 "metadata": {
  "kernelspec": {
   "display_name": "Python 3",
   "language": "python",
   "name": "python3"
  },
  "language_info": {
   "codemirror_mode": {
    "name": "ipython",
    "version": 3
   },
   "file_extension": ".py",
   "mimetype": "text/x-python",
   "name": "python",
   "nbconvert_exporter": "python",
   "pygments_lexer": "ipython3",
   "version": "3.6.6+"
  }
 },
 "nbformat": 4,
 "nbformat_minor": 2
}
